{
 "cells": [
  {
   "cell_type": "markdown",
   "metadata": {},
   "source": [
    "1. Install Dependencies"
   ]
  },
  {
   "cell_type": "code",
   "execution_count": null,
   "metadata": {},
   "outputs": [],
   "source": [
    "!pip3 install torch torchvision torchaudio"
   ]
  },
  {
   "cell_type": "code",
   "execution_count": null,
   "metadata": {},
   "outputs": [],
   "source": [
    "!pip list"
   ]
  },
  {
   "cell_type": "code",
   "execution_count": null,
   "metadata": {},
   "outputs": [],
   "source": [
    "!pip install stable-baselines3[extra] protobuf==3.20.*"
   ]
  },
  {
   "cell_type": "code",
   "execution_count": 11,
   "metadata": {},
   "outputs": [
    {
     "name": "stderr",
     "output_type": "stream",
     "text": [
      "2452.81s - pydevd: Sending message related to process being replaced timed-out after 5 seconds\n"
     ]
    },
    {
     "name": "stdout",
     "output_type": "stream",
     "text": [
      "Requirement already satisfied: mss in /Users/jiaronghe/.pyenv/versions/3.10.0/lib/python3.10/site-packages (9.0.1)\n",
      "Collecting PyAutoGUI\n",
      "  Downloading PyAutoGUI-0.9.54.tar.gz (61 kB)\n",
      "\u001b[2K     \u001b[90m━━━━━━━━━━━━━━━━━━━━━━━━━━━━━━━━━━━━━━━\u001b[0m \u001b[32m61.2/61.2 kB\u001b[0m \u001b[31m860.5 kB/s\u001b[0m eta \u001b[36m0:00:00\u001b[0ma \u001b[36m0:00:01\u001b[0m\n",
      "\u001b[?25h  Installing build dependencies ... \u001b[?25ldone\n",
      "\u001b[?25h  Getting requirements to build wheel ... \u001b[?25ldone\n",
      "\u001b[?25h  Preparing metadata (pyproject.toml) ... \u001b[?25ldone\n",
      "\u001b[?25hRequirement already satisfied: pytesseract in /Users/jiaronghe/.pyenv/versions/3.10.0/lib/python3.10/site-packages (0.3.10)\n",
      "Collecting pymsgbox (from PyAutoGUI)\n",
      "  Downloading PyMsgBox-1.0.9.tar.gz (18 kB)\n",
      "  Installing build dependencies ... \u001b[?25ldone\n",
      "\u001b[?25h  Getting requirements to build wheel ... \u001b[?25ldone\n",
      "\u001b[?25h  Preparing metadata (pyproject.toml) ... \u001b[?25ldone\n",
      "\u001b[?25hCollecting pytweening>=1.0.4 (from PyAutoGUI)\n",
      "  Downloading pytweening-1.0.7.tar.gz (168 kB)\n",
      "\u001b[2K     \u001b[90m━━━━━━━━━━━━━━━━━━━━━━━━━━━━━━━━━━━━━━━\u001b[0m \u001b[32m168.2/168.2 kB\u001b[0m \u001b[31m3.1 MB/s\u001b[0m eta \u001b[36m0:00:00\u001b[0ma \u001b[36m0:00:01\u001b[0m\n",
      "\u001b[?25h  Installing build dependencies ... \u001b[?25ldone\n",
      "\u001b[?25h  Getting requirements to build wheel ... \u001b[?25ldone\n",
      "\u001b[?25h  Preparing metadata (pyproject.toml) ... \u001b[?25ldone\n",
      "\u001b[?25hCollecting pyscreeze>=0.1.21 (from PyAutoGUI)\n",
      "  Downloading PyScreeze-0.1.30.tar.gz (27 kB)\n",
      "  Installing build dependencies ... \u001b[?25ldone\n",
      "\u001b[?25h  Getting requirements to build wheel ... \u001b[?25ldone\n",
      "\u001b[?25h  Preparing metadata (pyproject.toml) ... \u001b[?25ldone\n",
      "\u001b[?25hCollecting pygetwindow>=0.0.5 (from PyAutoGUI)\n",
      "  Downloading PyGetWindow-0.0.9.tar.gz (9.7 kB)\n",
      "  Installing build dependencies ... \u001b[?25ldone\n",
      "\u001b[?25h  Getting requirements to build wheel ... \u001b[?25ldone\n",
      "\u001b[?25h  Preparing metadata (pyproject.toml) ... \u001b[?25ldone\n",
      "\u001b[?25hCollecting mouseinfo (from PyAutoGUI)\n",
      "  Downloading MouseInfo-0.1.3.tar.gz (10 kB)\n",
      "  Installing build dependencies ... \u001b[?25ldone\n",
      "\u001b[?25h  Getting requirements to build wheel ... \u001b[?25ldone\n",
      "\u001b[?25h  Preparing metadata (pyproject.toml) ... \u001b[?25ldone\n",
      "\u001b[?25hCollecting pyobjc-core (from PyAutoGUI)\n",
      "  Downloading pyobjc_core-10.1-cp310-cp310-macosx_10_9_universal2.whl.metadata (2.5 kB)\n",
      "Collecting pyobjc-framework-quartz (from PyAutoGUI)\n",
      "  Downloading pyobjc_framework_Quartz-10.1-cp310-cp310-macosx_10_9_universal2.whl.metadata (3.3 kB)\n",
      "Requirement already satisfied: packaging>=21.3 in /Users/jiaronghe/.pyenv/versions/3.10.0/lib/python3.10/site-packages (from pytesseract) (23.1)\n",
      "Requirement already satisfied: Pillow>=8.0.0 in /Users/jiaronghe/.pyenv/versions/3.10.0/lib/python3.10/site-packages (from pytesseract) (10.0.0)\n",
      "Collecting pyrect (from pygetwindow>=0.0.5->PyAutoGUI)\n",
      "  Downloading PyRect-0.2.0.tar.gz (17 kB)\n",
      "  Installing build dependencies ... \u001b[?25ldone\n",
      "\u001b[?25h  Getting requirements to build wheel ... \u001b[?25ldone\n",
      "\u001b[?25h  Preparing metadata (pyproject.toml) ... \u001b[?25ldone\n",
      "\u001b[?25hCollecting pyperclip (from mouseinfo->PyAutoGUI)\n",
      "  Downloading pyperclip-1.8.2.tar.gz (20 kB)\n",
      "  Installing build dependencies ... \u001b[?25ldone\n",
      "\u001b[?25h  Getting requirements to build wheel ... \u001b[?25ldone\n",
      "\u001b[?25h  Preparing metadata (pyproject.toml) ... \u001b[?25ldone\n",
      "\u001b[?25hCollecting rubicon-objc (from mouseinfo->PyAutoGUI)\n",
      "  Downloading rubicon_objc-0.4.7-py3-none-any.whl.metadata (5.4 kB)\n",
      "Collecting pyobjc-framework-Cocoa>=10.1 (from pyobjc-framework-quartz->PyAutoGUI)\n",
      "  Downloading pyobjc_framework_Cocoa-10.1-cp310-cp310-macosx_10_9_universal2.whl.metadata (2.3 kB)\n",
      "Downloading pyobjc_core-10.1-cp310-cp310-macosx_10_9_universal2.whl (752 kB)\n",
      "\u001b[2K   \u001b[90m━━━━━━━━━━━━━━━━━━━━━━━━━━━━━━━━━━━━━━━━\u001b[0m \u001b[32m752.5/752.5 kB\u001b[0m \u001b[31m8.7 MB/s\u001b[0m eta \u001b[36m0:00:00\u001b[0ma \u001b[36m0:00:01\u001b[0m\n",
      "\u001b[?25hDownloading pyobjc_framework_Quartz-10.1-cp310-cp310-macosx_10_9_universal2.whl (230 kB)\n",
      "\u001b[2K   \u001b[90m━━━━━━━━━━━━━━━━━━━━━━━━━━━━━━━━━━━━━━━━\u001b[0m \u001b[32m231.0/231.0 kB\u001b[0m \u001b[31m7.8 MB/s\u001b[0m eta \u001b[36m0:00:00\u001b[0m\n",
      "\u001b[?25hDownloading pyobjc_framework_Cocoa-10.1-cp310-cp310-macosx_10_9_universal2.whl (392 kB)\n",
      "\u001b[2K   \u001b[90m━━━━━━━━━━━━━━━━━━━━━━━━━━━━━━━━━━━━━━━━\u001b[0m \u001b[32m392.4/392.4 kB\u001b[0m \u001b[31m8.1 MB/s\u001b[0m eta \u001b[36m0:00:00\u001b[0mta \u001b[36m0:00:01\u001b[0m\n",
      "\u001b[?25hDownloading rubicon_objc-0.4.7-py3-none-any.whl (61 kB)\n",
      "\u001b[2K   \u001b[90m━━━━━━━━━━━━━━━━━━━━━━━━━━━━━━━━━━━━━━━━\u001b[0m \u001b[32m61.9/61.9 kB\u001b[0m \u001b[31m5.4 MB/s\u001b[0m eta \u001b[36m0:00:00\u001b[0m\n",
      "\u001b[?25hBuilding wheels for collected packages: PyAutoGUI, pygetwindow, pyscreeze, pytweening, mouseinfo, pymsgbox, pyperclip, pyrect\n",
      "  Building wheel for PyAutoGUI (pyproject.toml) ... \u001b[?25ldone\n",
      "\u001b[?25h  Created wheel for PyAutoGUI: filename=PyAutoGUI-0.9.54-py3-none-any.whl size=37576 sha256=446743de09297d7f98c5e912b6dae4800c650ae71d00dd08c249e66b7a6ef18b\n",
      "  Stored in directory: /Users/jiaronghe/Library/Caches/pip/wheels/23/a7/1c/5a51aaff3bbe110be4ddf766d429cc9d2fae7a72fc1b843e56\n",
      "  Building wheel for pygetwindow (pyproject.toml) ... \u001b[?25ldone\n",
      "\u001b[?25h  Created wheel for pygetwindow: filename=PyGetWindow-0.0.9-py3-none-any.whl size=11062 sha256=6807fa49f4fd1347db89a7dde697a4ae0bf99ca11d7bad25c62c38d5370cecec\n",
      "  Stored in directory: /Users/jiaronghe/Library/Caches/pip/wheels/02/f6/64/c5d427819f80553df2398bfecc351e94e00371c1dcb6edb24e\n",
      "  Building wheel for pyscreeze (pyproject.toml) ... \u001b[?25ldone\n",
      "\u001b[?25h  Created wheel for pyscreeze: filename=PyScreeze-0.1.30-py3-none-any.whl size=14382 sha256=e57cb88bcf2c5e25e8fcc3280b035d773317a95a69458bb397720988a7847431\n",
      "  Stored in directory: /Users/jiaronghe/Library/Caches/pip/wheels/c4/46/42/d3613adf9880c8b4a780c07a8cf85df12ca04a9a0ca77c6c02\n",
      "  Building wheel for pytweening (pyproject.toml) ... \u001b[?25ldone\n",
      "\u001b[?25h  Created wheel for pytweening: filename=pytweening-1.0.7-py3-none-any.whl size=6197 sha256=f9542e550ff48de6f8a650c009620f39ac56afef41a39f9c34b8b8df2c611ed5\n",
      "  Stored in directory: /Users/jiaronghe/Library/Caches/pip/wheels/ae/a3/d7/36c45539416215425b3247e37b691a98a03b1db7b13b7f9632\n",
      "  Building wheel for mouseinfo (pyproject.toml) ... \u001b[?25ldone\n",
      "\u001b[?25h  Created wheel for mouseinfo: filename=MouseInfo-0.1.3-py3-none-any.whl size=10890 sha256=f0c230e90eaecb7670fc13cc7560dc30b8d8812052dfb7aea6d95658c3cc393e\n",
      "  Stored in directory: /Users/jiaronghe/Library/Caches/pip/wheels/6e/d5/27/2f1be84b3e6ccee99c82f50e3fe7fe6360dd30417109b49a72\n",
      "  Building wheel for pymsgbox (pyproject.toml) ... \u001b[?25ldone\n",
      "\u001b[?25h  Created wheel for pymsgbox: filename=PyMsgBox-1.0.9-py3-none-any.whl size=7406 sha256=5ee214dcc2de1f4c132bea470ed86c3a75a1e3441754437cbe960af4cb5d6714\n",
      "  Stored in directory: /Users/jiaronghe/Library/Caches/pip/wheels/b9/6a/ba/be2d7d78166ec8018c21d07241dffa54446c09652a267759ae\n",
      "  Building wheel for pyperclip (pyproject.toml) ... \u001b[?25ldone\n",
      "\u001b[?25h  Created wheel for pyperclip: filename=pyperclip-1.8.2-py3-none-any.whl size=11122 sha256=26f00170eae23272b9d86305424ac87187f074ba9dc181ad377fd2b9aa62fc28\n",
      "  Stored in directory: /Users/jiaronghe/Library/Caches/pip/wheels/04/24/fe/140a94a7f1036003ede94579e6b4227fe96c840c6f4dcbe307\n",
      "  Building wheel for pyrect (pyproject.toml) ... \u001b[?25ldone\n",
      "\u001b[?25h  Created wheel for pyrect: filename=PyRect-0.2.0-py2.py3-none-any.whl size=11179 sha256=446c33a6bea5902ff97c78abfaaaa087f759c62c314f2ebf07e5426556fd92f4\n",
      "  Stored in directory: /Users/jiaronghe/Library/Caches/pip/wheels/d5/4c/bd/42e4e23641afcd185d4e932784da37e6e04505da0cf3f7b832\n",
      "Successfully built PyAutoGUI pygetwindow pyscreeze pytweening mouseinfo pymsgbox pyperclip pyrect\n",
      "Installing collected packages: pytweening, pyrect, pyperclip, pymsgbox, rubicon-objc, pyscreeze, pyobjc-core, pygetwindow, pyobjc-framework-Cocoa, mouseinfo, pyobjc-framework-quartz, PyAutoGUI\n",
      "Successfully installed PyAutoGUI-0.9.54 mouseinfo-0.1.3 pygetwindow-0.0.9 pymsgbox-1.0.9 pyobjc-core-10.1 pyobjc-framework-Cocoa-10.1 pyobjc-framework-quartz-10.1 pyperclip-1.8.2 pyrect-0.2.0 pyscreeze-0.1.30 pytweening-1.0.7 rubicon-objc-0.4.7\n"
     ]
    }
   ],
   "source": [
    "!pip install mss PyAutoGUI pytesseract"
   ]
  },
  {
   "cell_type": "code",
   "execution_count": 147,
   "metadata": {},
   "outputs": [],
   "source": [
    "# screen capture\n",
    "from mss import mss\n",
    "\n",
    "# send commands\n",
    "# import pydirectinput\n",
    "import pyautogui\n",
    "\n",
    "# opencv allows us to do frame processing\n",
    "import cv2\n",
    "\n",
    "# transformaitonal framework\n",
    "import numpy as np\n",
    "\n",
    "# OCR for game over extraction\n",
    "import pytesseract\n",
    "\n",
    "# visualize captured frames\n",
    "from matplotlib import pyplot as plt\n",
    "\n",
    "# for pause\n",
    "import time\n",
    "\n",
    "# ENV components\n",
    "# from gym import Env\n",
    "# from gym.spaces import Box, Discrete\n",
    "from gymnasium import Env\n",
    "from gymnasium.spaces import Box, Discrete"
   ]
  },
  {
   "cell_type": "markdown",
   "metadata": {},
   "source": [
    "2. Build the environment"
   ]
  },
  {
   "cell_type": "code",
   "execution_count": 161,
   "metadata": {},
   "outputs": [],
   "source": [
    "class WebGame(Env):\n",
    "    # sstup the env action and observation shapes\n",
    "    def __init__(self):\n",
    "        super().__init__()\n",
    "\n",
    "        self.observation_space = Box(\n",
    "            low=0,\n",
    "            high=255,\n",
    "            shape=(1, 83, 100),\n",
    "            dtype=np.uint8,\n",
    "        )\n",
    "        # actions: 0 / 1 / 2\n",
    "        self.action_space = Discrete(3)\n",
    "        # define extraction params for the game\n",
    "        self.cap = mss()\n",
    "        self.game_location = {\n",
    "            \"top\": 300,\n",
    "            \"left\": 0,\n",
    "            \"width\": 600,\n",
    "            \"height\": 500,\n",
    "        }\n",
    "        self.done_location = {\n",
    "            \"top\": 405,\n",
    "            \"left\": 330,\n",
    "            \"width\": 660,\n",
    "            \"height\": 70,\n",
    "        }\n",
    "\n",
    "    # what's called to do something in the game\n",
    "    def step(self, action):\n",
    "        # action key:\n",
    "        # key - 0 = space\n",
    "        # key - 1 = duck\n",
    "        # key - 2 = no action\n",
    "        action_map = {\n",
    "            0: \"space\",\n",
    "            1: \"down\",\n",
    "            2: \"no_op\",\n",
    "        }\n",
    "        if action != 2:\n",
    "            # pydirectinput.press(action_map[action])\n",
    "            pyautogui.press(action_map[action])\n",
    "\n",
    "        # checking game whether is done\n",
    "        done, done_cap = self.get_done()\n",
    "        # get the next observation\n",
    "        new_observation = self.get_observation()\n",
    "        # reward - we get a point for every frame we're alive\n",
    "        reward = 1\n",
    "        # info dict\n",
    "        info = {}\n",
    "\n",
    "        return new_observation, reward, done, info\n",
    "\n",
    "    # visualize the game\n",
    "    def render(self):\n",
    "        cv2.imshow(\"Game\", np.array(self.cap.grab(self.game_location))[:, :, :3])\n",
    "        if cv2.waitKey(1) & 0xFF == ord(\"q\"):\n",
    "            self.close()\n",
    "\n",
    "    # restart the game\n",
    "    def reset(self, seed=0):\n",
    "        super().reset(seed=seed)\n",
    "\n",
    "        # click the screen anywhere\n",
    "        time.sleep(1)\n",
    "\n",
    "        pyautogui.click(\n",
    "            x=150,\n",
    "            y=150,\n",
    "            clicks=1,\n",
    "            button=\"left\",\n",
    "        )\n",
    "        pyautogui.press(\"space\")\n",
    "\n",
    "        # info dict\n",
    "        info = {}\n",
    "\n",
    "        return self.get_observation(), info\n",
    "\n",
    "    # close down the observation\n",
    "    def close(self):\n",
    "        cv2.destroyAllWindows()\n",
    "\n",
    "    # get the part of the observation of game that we want\n",
    "    def get_observation(self):\n",
    "        # get screen capture of game\n",
    "        screenshot = self.cap.grab(self.game_location)\n",
    "        raw = np.array(screenshot)[:, :, :3]  # get rid of alpha\n",
    "        raw.astype(np.uint8)\n",
    "\n",
    "        # grayscale\n",
    "        gray = cv2.cvtColor(raw, cv2.COLOR_BGR2GRAY)\n",
    "\n",
    "        # resize\n",
    "        resized = cv2.resize(gray, (100, 83))\n",
    "\n",
    "        # add channel\n",
    "        channel = np.reshape(resized, (1, 83, 100))\n",
    "\n",
    "        return channel\n",
    "\n",
    "    # get the done text\n",
    "    def get_done(self):\n",
    "        # get done screen\n",
    "        done_cap = self.cap.grab(self.done_location)\n",
    "        raw = np.array(done_cap)[:, :, :3]\n",
    "\n",
    "        # validate done text\n",
    "        done_strings = [\n",
    "            \"GAME\",\n",
    "            \"GAHE\",\n",
    "        ]\n",
    "        done = False\n",
    "        res = pytesseract.image_to_string(raw)[:4]\n",
    "        if res in done_strings:\n",
    "            done = True\n",
    "\n",
    "        return done, raw"
   ]
  },
  {
   "cell_type": "code",
   "execution_count": 162,
   "metadata": {},
   "outputs": [],
   "source": [
    "env = WebGame()"
   ]
  },
  {
   "cell_type": "code",
   "execution_count": 33,
   "metadata": {},
   "outputs": [],
   "source": [
    "# env.action_space.sample()"
   ]
  },
  {
   "cell_type": "code",
   "execution_count": 97,
   "metadata": {},
   "outputs": [
    {
     "data": {
      "text/plain": [
       "array([[[255, 255, 255, ..., 255, 255, 255],\n",
       "        [255, 255, 255, ..., 255, 255, 255],\n",
       "        [255, 255, 255, ..., 255, 255, 255],\n",
       "        ...,\n",
       "        [255, 255, 255, ..., 255, 255, 255],\n",
       "        [255, 255, 255, ..., 255, 255, 255],\n",
       "        [255, 255, 255, ..., 255, 255, 255]]], dtype=uint8)"
      ]
     },
     "execution_count": 97,
     "metadata": {},
     "output_type": "execute_result"
    }
   ],
   "source": [
    "# plt.imshow(env.observation_space.sample()[0])\n",
    "\n",
    "# plt.imshow(env.get_observation())\n",
    "\n",
    "# plt.imshow(cv2.cvtColor(env.get_observation()[0], cv2.COLOR_BGR2RGB))\n",
    "\n",
    "# done, done_cap = env.get_done()\n",
    "# done\n",
    "# plt.imshow(done_cap)\n",
    "\n",
    "# env.render()\n",
    "\n",
    "# env.close()\n",
    "\n",
    "env.reset()"
   ]
  },
  {
   "cell_type": "markdown",
   "metadata": {},
   "source": [
    "3. Test env"
   ]
  },
  {
   "cell_type": "code",
   "execution_count": 153,
   "metadata": {},
   "outputs": [
    {
     "data": {
      "text/plain": [
       "<matplotlib.image.AxesImage at 0x2b4294730>"
      ]
     },
     "execution_count": 153,
     "metadata": {},
     "output_type": "execute_result"
    },
    {
     "data": {
      "image/png": "[encoded data removed]",
      "text/plain": [
       "<Figure size 640x480 with 1 Axes>"
      ]
     },
     "metadata": {},
     "output_type": "display_data"
    }
   ],
   "source": [
    "env = WebGame()\n",
    "obs = env.get_observation()\n",
    "plt.imshow(cv2.cvtColor(obs[0], cv2.COLOR_BGR2RGB))"
   ]
  },
  {
   "cell_type": "code",
   "execution_count": 106,
   "metadata": {},
   "outputs": [
    {
     "data": {
      "text/plain": [
       "'GAME'"
      ]
     },
     "execution_count": 106,
     "metadata": {},
     "output_type": "execute_result"
    }
   ],
   "source": [
    "done, done_cap = env.get_done()\n",
    "done\n",
    "\n",
    "pytesseract.image_to_string(done_cap)[:4]"
   ]
  },
  {
   "cell_type": "code",
   "execution_count": 107,
   "metadata": {},
   "outputs": [
    {
     "name": "stdout",
     "output_type": "stream",
     "text": [
      "Total reward for episode 0 is 22\n",
      "Total reward for episode 1 is 27\n",
      "Total reward for episode 2 is 23\n",
      "Total reward for episode 3 is 26\n",
      "Total reward for episode 4 is 27\n",
      "Total reward for episode 5 is 31\n",
      "Total reward for episode 6 is 26\n",
      "Total reward for episode 7 is 34\n",
      "Total reward for episode 8 is 52\n",
      "Total reward for episode 9 is 24\n"
     ]
    }
   ],
   "source": [
    "for episode in range(10):\n",
    "    obs = env.reset()\n",
    "    done = False\n",
    "    total_reward = 0\n",
    "\n",
    "    while not done:\n",
    "        obs, reward, done, info = env.step(env.action_space.sample())\n",
    "        total_reward += reward\n",
    "\n",
    "    print(f\"Total reward for episode {episode} is {total_reward}\")"
   ]
  },
  {
   "cell_type": "markdown",
   "metadata": {},
   "source": [
    "3. Create callback"
   ]
  },
  {
   "cell_type": "code",
   "execution_count": 159,
   "metadata": {},
   "outputs": [],
   "source": [
    "# !pip install git+https://github.com/DLR-RM/stable-baselines3\n",
    "\n",
    "# !pip install gymnasium\n",
    "\n",
    "# !pip install setuptools==65.5.0\n",
    "# !pip install stable-baselines3==1.8.0\n",
    "# !pip install stable-baselines3[extra]\n",
    "# !pip install Shimmy\n",
    "\n",
    "import os\n",
    "# save models\n",
    "from stable_baselines3.common.callbacks import BaseCallback\n",
    "# check env\n",
    "from stable_baselines3.common import env_checker"
   ]
  },
  {
   "cell_type": "code",
   "execution_count": null,
   "metadata": {},
   "outputs": [],
   "source": [
    "env_checker.check_env(env)"
   ]
  },
  {
   "cell_type": "code",
   "execution_count": 124,
   "metadata": {},
   "outputs": [],
   "source": [
    "class TrainAndLoggingCallback(BaseCallback):\n",
    "    def __init__(self, check_freq, save_path, verbose=1):\n",
    "        super(TrainAndLoggingCallback, self).__init__(verbose)\n",
    "        self.check_freq = check_freq\n",
    "        self.save_path = save_path\n",
    "\n",
    "    def _init_callback(self):\n",
    "        if self.save_path is not None:\n",
    "            os.makedirs(self.save_path, exist_ok=True)\n",
    "\n",
    "    def _on_step(self):\n",
    "        if self.n_calls % self.check_freq == 0:\n",
    "            model_path = os.path.join(\n",
    "                self.save_path, \"best_model_{}\".format(self.n_calls)\n",
    "            )\n",
    "            self.model.save(model_path)\n",
    "\n",
    "        return True"
   ]
  },
  {
   "cell_type": "code",
   "execution_count": 164,
   "metadata": {},
   "outputs": [],
   "source": [
    "CHECKPOINT_DIR = './train/'\n",
    "LOG_DIR = './logs/'"
   ]
  },
  {
   "cell_type": "code",
   "execution_count": null,
   "metadata": {},
   "outputs": [],
   "source": [
    "callback = TrainAndLoggingCallback(check_freq=1000, save_path=CHECKPOINT_DIR)"
   ]
  },
  {
   "cell_type": "markdown",
   "metadata": {},
   "source": [
    "3.2 build DQN and train"
   ]
  },
  {
   "cell_type": "code",
   "execution_count": null,
   "metadata": {},
   "outputs": [],
   "source": [
    "from stable_baselines3 import DQN\n",
    "\n",
    "model = DQN(\n",
    "    \"CnnPolicy\",\n",
    "    env,\n",
    "    tensorboard_log=LOG_DIR,\n",
    "    verbose=1,\n",
    "    buffer_size=1200000,\n",
    "    learning_starts=1000,\n",
    ")\n",
    "\n",
    "model.learn(total_timesteps=5000, callback=callback)"
   ]
  },
  {
   "cell_type": "markdown",
   "metadata": {},
   "source": [
    "4. Test out model"
   ]
  },
  {
   "cell_type": "code",
   "execution_count": null,
   "metadata": {},
   "outputs": [],
   "source": [
    "model = DQN.load(os.path.join(\"train_first\", \"best_model_88000\"))\n",
    "\n",
    "for episode in range(1):\n",
    "    obs = env.reset()\n",
    "    done = False\n",
    "    total_reward = 0\n",
    "\n",
    "    while not done:\n",
    "        action, _ = model.predict(obs)\n",
    "        obs, reward, done, info = env.step(int(action))\n",
    "        total_reward += reward\n",
    "\n",
    "    print(f\"Total reward for episode {episode} is {total_reward}\")\n"
   ]
  }
 ],
 "metadata": {
  "kernelspec": {
   "display_name": "Python 3",
   "language": "python",
   "name": "python3"
  },
  "language_info": {
   "codemirror_mode": {
    "name": "ipython",
    "version": 3
   },
   "file_extension": ".py",
   "mimetype": "text/x-python",
   "name": "python",
   "nbconvert_exporter": "python",
   "pygments_lexer": "ipython3",
   "version": "3.10.0"
  }
 },
 "nbformat": 4,
 "nbformat_minor": 2
}
