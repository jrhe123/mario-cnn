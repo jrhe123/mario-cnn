{
 "cells": [
  {
   "cell_type": "code",
   "execution_count": 26,
   "metadata": {},
   "outputs": [
    {
     "ename": "NameError",
     "evalue": "name 'x' is not defined",
     "output_type": "error",
     "traceback": [
      "\u001b[0;31m---------------------------------------------------------------------------\u001b[0m",
      "\u001b[0;31mNameError\u001b[0m                                 Traceback (most recent call last)",
      "\u001b[1;32m/Users/jiaronghe/Desktop/projects/python/imooc_ai/lesson_3.ipynb Cell 2\u001b[0m line \u001b[0;36m3\n\u001b[1;32m      <a href='vscode-notebook-cell:/Users/jiaronghe/Desktop/projects/python/imooc_ai/lesson_3.ipynb#W0sZmlsZQ%3D%3D?line=0'>1</a>\u001b[0m \u001b[39mfrom\u001b[39;00m \u001b[39msklearn\u001b[39;00m\u001b[39m.\u001b[39;00m\u001b[39mlinear_model\u001b[39;00m \u001b[39mimport\u001b[39;00m LogisticRegression\n\u001b[1;32m      <a href='vscode-notebook-cell:/Users/jiaronghe/Desktop/projects/python/imooc_ai/lesson_3.ipynb#W0sZmlsZQ%3D%3D?line=1'>2</a>\u001b[0m lr_model \u001b[39m=\u001b[39m LogisticRegression()\n\u001b[0;32m----> <a href='vscode-notebook-cell:/Users/jiaronghe/Desktop/projects/python/imooc_ai/lesson_3.ipynb#W0sZmlsZQ%3D%3D?line=2'>3</a>\u001b[0m lr_model\u001b[39m.\u001b[39mfit(x, y)\n\u001b[1;32m      <a href='vscode-notebook-cell:/Users/jiaronghe/Desktop/projects/python/imooc_ai/lesson_3.ipynb#W0sZmlsZQ%3D%3D?line=4'>5</a>\u001b[0m theta1, theta2 \u001b[39m=\u001b[39m lr_model\u001b[39m.\u001b[39mcoef_[\u001b[39m0\u001b[39m][\u001b[39m0\u001b[39m], lr_model\u001b[39m.\u001b[39mcoef_[\u001b[39m0\u001b[39m][\u001b[39m1\u001b[39m]\n\u001b[1;32m      <a href='vscode-notebook-cell:/Users/jiaronghe/Desktop/projects/python/imooc_ai/lesson_3.ipynb#W0sZmlsZQ%3D%3D?line=5'>6</a>\u001b[0m theta0 \u001b[39m=\u001b[39m lr_model\u001b[39m.\u001b[39mintercept_[\u001b[39m0\u001b[39m]\n",
      "\u001b[0;31mNameError\u001b[0m: name 'x' is not defined"
     ]
    }
   ],
   "source": [
    "from sklearn.linear_model import LogisticRegression\n",
    "lr_model = LogisticRegression()\n",
    "lr_model.fit(x, y)\n",
    "\n",
    "theta1, theta2 = lr_model.coef_[0][0], lr_model.coef_[0][1]\n",
    "theta0 = lr_model.intercept_[0]\n",
    "\n",
    "y_pred = lr_model.predict(x_new)"
   ]
  },
  {
   "cell_type": "code",
   "execution_count": null,
   "metadata": {},
   "outputs": [],
   "source": [
    "import pandas as pd\n",
    "import numpy as np\n",
    "\n",
    "# 提高准确率\n",
    "# 边界曲线 （1次 -> 2次）\n",
    "X1_2 = X1 * X1\n",
    "X2_2 = X2 * X2\n",
    "X1_X2 = X1 * X2\n",
    "\n",
    "X_new_dic = {\n",
    "    \"X1\": X1,\n",
    "    \"X2\": X2,\n",
    "    \"X1^2\": X1_2,\n",
    "    \"X2^2\": X2_2,\n",
    "    \"X1X2\": X1_X2,\n",
    "}\n",
    "X_new = pd.DataFrame(X_new_dic)"
   ]
  },
  {
   "cell_type": "code",
   "execution_count": null,
   "metadata": {},
   "outputs": [],
   "source": [
    "from sklearn.metrics import accuracy_score\n",
    "y_pred = lr_model.predict(X)\n",
    "accuracy_score = accuracy_score(y, y_pred)"
   ]
  },
  {
   "cell_type": "code",
   "execution_count": null,
   "metadata": {},
   "outputs": [],
   "source": [
    "from matplotlib import pyplot as plt\n",
    "\n",
    "plt.plot(X1, X2_boundary)\n",
    "passed = plt.scatter(\n",
    "    X1[mask],\n",
    "    X2[mask]\n",
    ")\n",
    "failed = plt.scatter(\n",
    "    X1[~mask],\n",
    "    X2[~mask], marker=\"^\"\n",
    ")"
   ]
  }
 ],
 "metadata": {
  "kernelspec": {
   "display_name": "Python 3",
   "language": "python",
   "name": "python3"
  },
  "language_info": {
   "codemirror_mode": {
    "name": "ipython",
    "version": 3
   },
   "file_extension": ".py",
   "mimetype": "text/x-python",
   "name": "python",
   "nbconvert_exporter": "python",
   "pygments_lexer": "ipython3",
   "version": "3.10.0"
  }
 },
 "nbformat": 4,
 "nbformat_minor": 2
}
