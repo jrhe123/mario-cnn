{
 "cells": [
  {
   "cell_type": "markdown",
   "metadata": {},
   "source": [
    "![alt text](无监督学习.png \"Title\")\n",
    "\n",
    "![alt text](K-Mean.png \"Title\")\n",
    "\n",
    "![alt text](Meanshift.png \"Title\")\n"
   ]
  },
  {
   "cell_type": "markdown",
   "metadata": {},
   "source": [
    "无监督学习：\n",
    "\n",
    "K-Mean: 需要告诉K是多少\n",
    "\n",
    "Meanshit: 不需要, 需要估算一个R半径 (bandwidth)\n"
   ]
  },
  {
   "cell_type": "markdown",
   "metadata": {},
   "source": [
    "监督学习: (logistics)\n",
    "\n",
    "KNN: K of nearest neighbour\n",
    "\n",
    "先定义各个点的种类，在K个最靠近的值，最多的种类，自动也归类到该种类"
   ]
  }
 ],
 "metadata": {
  "language_info": {
   "name": "python"
  }
 },
 "nbformat": 4,
 "nbformat_minor": 2
}
