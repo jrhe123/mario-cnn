{
 "cells": [
  {
   "cell_type": "markdown",
   "metadata": {},
   "source": [
    "![alt text](迁移学习.png \"Title\")\n",
    "\n",
    "![alt text](迁移学习2.png \"Title\")\n"
   ]
  }
 ],
 "metadata": {
  "language_info": {
   "name": "python"
  }
 },
 "nbformat": 4,
 "nbformat_minor": 2
}
