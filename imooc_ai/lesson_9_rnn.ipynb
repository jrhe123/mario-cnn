{
 "cells": [
  {
   "cell_type": "markdown",
   "metadata": {},
   "source": [
    "![alt text](rnn_case_1.png \"Title\")\n",
    "\n",
    "![alt text](rnn_case_2.png \"Title\")\n",
    "\n",
    "![alt text](rnn_case_3.png \"Title\")\n",
    "\n",
    "![alt text](rnn_case_4.png \"Title\")\n",
    "\n",
    "![alt text](rnn_case_5.png \"Title\")"
   ]
  },
  {
   "cell_type": "code",
   "execution_count": null,
   "metadata": {},
   "outputs": [],
   "source": [
    "# Recurrent neural network\n",
    "# 股票预测"
   ]
  },
  {
   "cell_type": "markdown",
   "metadata": {},
   "source": [
    "![alt text](rnn.png \"Title\")\n",
    "\n",
    "![alt text](lstm.png \"Title\")"
   ]
  },
  {
   "cell_type": "markdown",
   "metadata": {},
   "source": [
    "![alt text](brnn.png \"Title\")\n",
    "\n",
    "![alt text](drnn.png \"Title\")"
   ]
  }
 ],
 "metadata": {
  "kernelspec": {
   "display_name": "Python 3",
   "language": "python",
   "name": "python3"
  },
  "language_info": {
   "name": "python",
   "version": "3.10.0"
  }
 },
 "nbformat": 4,
 "nbformat_minor": 2
}
