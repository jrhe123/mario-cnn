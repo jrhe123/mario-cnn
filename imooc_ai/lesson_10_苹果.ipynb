{
 "cells": [
  {
   "cell_type": "markdown",
   "metadata": {},
   "source": [
    "![alt text](迁移学习_demo.png \"Title\")\n",
    "\n",
    "![alt text](苹果检测.png \"Title\")\n",
    "\n",
    "![alt text](苹果检测_2.png \"Title\")"
   ]
  },
  {
   "cell_type": "markdown",
   "metadata": {},
   "source": [
    "<!-- 混合模型 -->\n",
    "\n",
    "![alt text](半监督学习.png \"Title\")\n",
    "\n",
    "![alt text](半监督学习_聚类.png \"Title\")"
   ]
  }
 ],
 "metadata": {
  "language_info": {
   "name": "python"
  }
 },
 "nbformat": 4,
 "nbformat_minor": 2
}
